{
 "cells": [
  {
   "cell_type": "code",
   "execution_count": 110,
   "metadata": {},
   "outputs": [],
   "source": [
    "import sys\n",
    "import os\n",
    "import pandas as pd\n",
    "import sqlite3\n",
    "import ebisu\n",
    "from memorizesrs import schedule\n",
    "from datetime import datetime, timedelta\n",
    "from math import inf\n",
    "\n",
    "\n",
    "COLLECTION_PATH = \"/Users/jacob/Library/Application Support/Anki2/Minerva/collection.anki2\"\n",
    "cnx = sqlite3.connect(COLLECTION_PATH)\n",
    "\n",
    "# most commonly reviewed card\n",
    "df = pd.read_sql_query(\"SELECT * FROM revlog WHERE cid = 1286321546300\", cnx)\n",
    "\n",
    "# currentcardid = df.cid.value_counts().idxmax()"
   ]
  },
  {
   "cell_type": "code",
   "execution_count": 111,
   "metadata": {},
   "outputs": [],
   "source": [
    "learnTime = datetime.fromtimestamp(1286321546300 / 1000.00)\n",
    "\n",
    "reviewTimes = pd.to_datetime(df['id'], unit = \"ms\")\n",
    "\n",
    "reviewResults = df['ease'] != 1 \n",
    "\n",
    "initialModel = ebisu.defaultModel(0.25, 3) # initial half life is 15 minutes, alpha = beta = 3"
   ]
  },
  {
   "cell_type": "code",
   "execution_count": 112,
   "metadata": {},
   "outputs": [
    {
     "data": {
      "text/plain": [
       "(10.813347396170563, 11.797213496966025, 144.61125755257288)"
      ]
     },
     "execution_count": 112,
     "metadata": {},
     "output_type": "execute_result"
    }
   ],
   "source": [
    "def historyToEbisuModel(learnTime, reviewTimes, reviewResults, initialModel = ebisu.defaultModel(0.25,3)):\n",
    "    \"\"\"Convert history of quizzes to Ebisu model\"\"\"\n",
    "    \n",
    "    assert len(reviewTimes) == len(reviewResults)\n",
    "\n",
    "    previousTime = learnTime\n",
    "    model = initialModel\n",
    "    \n",
    "    for (reviewTime, result) in zip(reviewTimes, reviewResults):\n",
    "        \n",
    "        model = ebisu.updateRecall(model, result, (reviewTime - previousTime).total_seconds() / 3600)\n",
    "        previousTime = reviewTime\n",
    "        \n",
    "    return model\n",
    "\n",
    "\n",
    "ebisuModel = historyToEbisuModel(learnTime, reviewTimes, reviewResults)\n",
    "\n",
    "ebisuModel"
   ]
  },
  {
   "cell_type": "code",
   "execution_count": 117,
   "metadata": {},
   "outputs": [
    {
     "name": "stdout",
     "output_type": "stream",
     "text": [
      "Quiz due in 2.605206069833358 hours\n"
     ]
    }
   ],
   "source": [
    "def ebisuModelToMemorizeInterval(model, q=10.0, T=inf):\n",
    "    \"\"\"Use an Ebisu model to draw a MEMORIZE interval\"\"\"\n",
    "    return schedule(lambda t: ebisu.predictRecall(initialModel, t, exact=True), q, T)\n",
    "\n",
    "dueIn = ebisuModelToMemorizeInterval(ebisuModel, q=10.0, T=inf)\n",
    "print(f\"Quiz due in {dueIn} hours\")\n"
   ]
  },
  {
   "cell_type": "code",
   "execution_count": 118,
   "metadata": {},
   "outputs": [
    {
     "name": "stdout",
     "output_type": "stream",
     "text": [
      "Ebisu halflife=0.25000000000000017 hours\n",
      "                  0\n",
      "count  10000.000000\n",
      "mean       3.613281\n",
      "std        3.203966\n",
      "min        0.016297\n",
      "25%        1.346231\n",
      "50%        2.722674\n",
      "75%        4.882248\n",
      "max       32.055608\n",
      "Ebisu halflife=135.61910906105547 hours\n",
      "                  0\n",
      "count  10000.000000\n",
      "mean       3.530936\n",
      "std        3.139008\n",
      "min        0.007428\n",
      "25%        1.315331\n",
      "50%        2.632318\n",
      "75%        4.763936\n",
      "max       36.387621\n"
     ]
    }
   ],
   "source": [
    "for model in [initialModel, ebisuModel]:\n",
    "    print(\"Ebisu halflife={} hours\".format(ebisu.modelToPercentileDecay(model)))\n",
    "    print(pd.DataFrame([ebisuModelToMemorizeInterval(model) for n in range(10_000)]).describe())"
   ]
  },
  {
   "cell_type": "code",
   "execution_count": null,
   "metadata": {},
   "outputs": [],
   "source": []
  },
  {
   "cell_type": "code",
   "execution_count": null,
   "metadata": {},
   "outputs": [],
   "source": []
  },
  {
   "cell_type": "code",
   "execution_count": null,
   "metadata": {},
   "outputs": [],
   "source": []
  }
 ],
 "metadata": {
  "kernelspec": {
   "display_name": "Python 3",
   "language": "python",
   "name": "python3"
  },
  "language_info": {
   "codemirror_mode": {
    "name": "ipython",
    "version": 3
   },
   "file_extension": ".py",
   "mimetype": "text/x-python",
   "name": "python",
   "nbconvert_exporter": "python",
   "pygments_lexer": "ipython3",
   "version": "3.6.8"
  }
 },
 "nbformat": 4,
 "nbformat_minor": 2
}
