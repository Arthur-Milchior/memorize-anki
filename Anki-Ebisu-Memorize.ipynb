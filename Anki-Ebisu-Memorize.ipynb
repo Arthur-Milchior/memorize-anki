{
 "cells": [
  {
   "cell_type": "code",
   "execution_count": 13,
   "metadata": {},
   "outputs": [],
   "source": [
    "import sys\n",
    "import os\n",
    "import sqlite3\n",
    "import ebisu\n",
    "from memorizesrs import schedule\n",
    "from datetime import datetime, timedelta\n",
    "from math import inf\n",
    "\n",
    "\n",
    "COLLECTION_PATH = \"/Users/jacob/Library/Application Support/Anki2/Minerva/collection.anki2\"\n",
    "ANKI_PATH = '/Users/jacob/anki'\n",
    "\n",
    "os.chdir(ANKI_PATH)\n",
    "from anki import Collection\n",
    "\n",
    "col = Collection(COLLECTION_PATH)\n",
    "\n",
    "reviewResults = col.db.list(\"SELECT ease FROM revlog WHERE cid = 1286321546300\") \n",
    "reviewResults = [ease != 1 for ease in reviewResults]\n",
    "\n",
    "reviewTimes = col.db.list(\"SELECT id FROM revlog WHERE cid = 1286321546300\")\n",
    "reviewTimes = [datetime.fromtimestamp(time / 1000.00) for time in reviewTimes]\n",
    "\n",
    "\n",
    "col.close()\n",
    "\n",
    "# most commonly reviewed card\n",
    "# df = pd.read_sql_query(\"SELECT * FROM revlog WHERE cid = 1286321546300\", cnx)\n",
    "\n",
    "# currentcardid = df.cid.value_counts().idxmax()"
   ]
  },
  {
   "cell_type": "code",
   "execution_count": 15,
   "metadata": {},
   "outputs": [],
   "source": [
    "learnTime = datetime.fromtimestamp(1286321546300 / 1000.00)\n",
    "\n",
    "initialModel = ebisu.defaultModel(0.25, 3) # initial half life is 15 minutes, alpha = beta = 3"
   ]
  },
  {
   "cell_type": "code",
   "execution_count": 16,
   "metadata": {},
   "outputs": [
    {
     "data": {
      "text/plain": [
       "(10.812834430355084, 11.795654915767313, 144.61125755257288)"
      ]
     },
     "execution_count": 16,
     "metadata": {},
     "output_type": "execute_result"
    }
   ],
   "source": [
    "def historyToEbisuModel(learnTime, reviewTimes, reviewResults, initialModel = ebisu.defaultModel(0.25,3)):\n",
    "    \"\"\"Convert history of quizzes to Ebisu model\"\"\"\n",
    "    \n",
    "    assert len(reviewTimes) == len(reviewResults)\n",
    "\n",
    "    previousTime = learnTime\n",
    "    model = initialModel\n",
    "    \n",
    "    for (reviewTime, result) in zip(reviewTimes, reviewResults):\n",
    "        \n",
    "        model = ebisu.updateRecall(model, result, (reviewTime - previousTime).total_seconds() / 3600)\n",
    "        previousTime = reviewTime\n",
    "        \n",
    "    return model\n",
    "\n",
    "\n",
    "ebisuModel = historyToEbisuModel(learnTime, reviewTimes, reviewResults)\n",
    "\n",
    "ebisuModel"
   ]
  },
  {
   "cell_type": "code",
   "execution_count": 17,
   "metadata": {},
   "outputs": [
    {
     "name": "stdout",
     "output_type": "stream",
     "text": [
      "Quiz due in 1.425266703655391 hours\n"
     ]
    }
   ],
   "source": [
    "def ebisuModelToMemorizeInterval(model, q=10.0, T=inf):\n",
    "    \"\"\"Use an Ebisu model to draw a MEMORIZE interval\"\"\"\n",
    "    return schedule(lambda t: ebisu.predictRecall(initialModel, t, exact=True), q, T)\n",
    "\n",
    "dueIn = ebisuModelToMemorizeInterval(ebisuModel, q=10.0, T=inf)\n",
    "print(f\"Quiz due in {dueIn} hours\")\n"
   ]
  },
  {
   "cell_type": "code",
   "execution_count": 18,
   "metadata": {},
   "outputs": [
    {
     "name": "stdout",
     "output_type": "stream",
     "text": [
      "Ebisu halflife=0.25000000000000017 hours\n",
      "                  0\n",
      "count  10000.000000\n",
      "mean       3.557698\n",
      "std        3.144188\n",
      "min        0.009033\n",
      "25%        1.318617\n",
      "50%        2.652023\n",
      "75%        4.804148\n",
      "max       29.914484\n",
      "Ebisu halflife=135.62746669780623 hours\n",
      "                  0\n",
      "count  10000.000000\n",
      "mean       3.576191\n",
      "std        3.162954\n",
      "min        0.018319\n",
      "25%        1.315564\n",
      "50%        2.651831\n",
      "75%        4.868864\n",
      "max       32.569499\n"
     ]
    }
   ],
   "source": [
    "for model in [initialModel, ebisuModel]:\n",
    "    print(\"Ebisu halflife={} hours\".format(ebisu.modelToPercentileDecay(model)))\n",
    "    print(pd.DataFrame([ebisuModelToMemorizeInterval(model) for n in range(10_000)]).describe())"
   ]
  },
  {
   "cell_type": "code",
   "execution_count": null,
   "metadata": {},
   "outputs": [],
   "source": []
  },
  {
   "cell_type": "code",
   "execution_count": null,
   "metadata": {},
   "outputs": [],
   "source": []
  },
  {
   "cell_type": "code",
   "execution_count": null,
   "metadata": {},
   "outputs": [],
   "source": []
  }
 ],
 "metadata": {
  "kernelspec": {
   "display_name": "Python 3",
   "language": "python",
   "name": "python3"
  },
  "language_info": {
   "codemirror_mode": {
    "name": "ipython",
    "version": 3
   },
   "file_extension": ".py",
   "mimetype": "text/x-python",
   "name": "python",
   "nbconvert_exporter": "python",
   "pygments_lexer": "ipython3",
   "version": "3.6.8"
  }
 },
 "nbformat": 4,
 "nbformat_minor": 2
}
