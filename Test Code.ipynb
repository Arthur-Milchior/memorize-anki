{
 "cells": [
  {
   "cell_type": "markdown",
   "metadata": {},
   "source": [
    "Damn, I just lost a shit ton of resources.\n",
    "\n",
    "\n",
    "# Goals: \n",
    "1. Find how Shepard did his experimentalcardeasefactor\n",
    "2. Try to implement a small-scale prediction model that can scrape data from the history\n",
    "3. Try to implement Tabibian's model, and make it update all of the cards. \n",
    "\n",
    "Add a button that updates all the cards following Tabibian's model. \n",
    "\n",
    "# REPL Testing\n",
    "- Make changes, restart Anki\n",
    "\n",
    "\n",
    "# Resources\n",
    "Repos\n",
    "- https://github.com/eshapard/experimentalCardEaseFactor/\n",
    "- https://github.com/duolingo/halflife-regression\n",
    "- https://github.com/Networks-Learning/memorize\n",
    "- https://github.com/dae/anki\n",
    "\n",
    "Anki\n",
    "- https://github.com/ankidroid/Anki-Android/wiki/Database-Structure\n",
    "- The debug console is cmd ;\n",
    "\n",
    "\n",
    "MEMORIZE Resources\n",
    "- https://www.reddit.com/r/Anki/comments/cghyiy/optimized_spaced_repetition_algorithm/ (Utkarsh reponds)\n",
    "- http://learning.mpi-sws.org/memorize/\n",
    "\n",
    "Making an Addon\n",
    "- https://www.juliensobczak.com/write/2016/12/26/anki-scripting.html\n",
    "\n",
    "Paying\n",
    "- https://www.reddit.com/r/Anki/comments/e0dazp/how_does_the_anki_community_feel_about_paying_for/\n",
    "\n",
    "\n"
   ]
  },
  {
   "cell_type": "code",
   "execution_count": null,
   "metadata": {},
   "outputs": [],
   "source": []
  },
  {
   "cell_type": "markdown",
   "metadata": {},
   "source": [
    "# Right now, try to figure out a way to use Tabibian's model on my own dataset. \n",
    "## Section 1: Importing Stuff\n",
    "\n",
    "There can be problems with importing mw from aqt. I had to pip install PyQt5 and PyQtWebEngine.\n",
    "\n",
    "\n",
    "Also, based on https://bugs.launchpad.net/ubuntu/+source/anki/+bug/1825722, I had to go into anki/aqt/qt.py and change \n",
    "\n",
    "-from PyQt5.QtWebEngineWidgets import QWebEnginePage\n",
    "+from PyQt5.QtWebEngineWidgets import *\n",
    "try:\n",
    "from PyQt5 import sip\n",
    "except ImportError:\n",
    "\n",
    "---\n",
    "1. git clone the anki repo\n",
    "2. get commandlinetools\n",
    "3. run build.sh following instructions from https://github.com/dae/anki/blob/master/README.development\n",
    "4. install requirements\n",
    "4. brew install python mplayer lame portaudio\n",
    "\n",
    "\n"
   ]
  },
  {
   "cell_type": "code",
   "execution_count": 32,
   "metadata": {},
   "outputs": [],
   "source": [
    "import json\n",
    "import os\n",
    "import pandas as pd\n",
    "import sqlite3\n",
    "import argparse\n",
    "import csv\n",
    "import gzip\n",
    "import math\n",
    "import random\n",
    "import sys\n",
    "from sys import intern\n",
    "from collections import defaultdict, namedtuple\n",
    "from sklearn.metrics import roc_auc_score\n",
    "\n",
    "\n",
    "curdir = os.getcwd()\n",
    "os.chdir(\"/Users/jacob/anki\")\n",
    "\n",
    "from anki import Collection\n",
    "from anki.utils import intTime\n",
    "import time\n",
    "\n",
    "from aqt import mw\n",
    "from aqt.reviewer import Reviewer\n",
    "from aqt.utils import showInfo\n",
    "from anki.hooks import wrap, addHook, runHook\n",
    "from aqt.qt import *\n",
    "\n",
    "\n",
    "os.chdir(curdir)"
   ]
  },
  {
   "cell_type": "code",
   "execution_count": 17,
   "metadata": {},
   "outputs": [],
   "source": [
    "collection_path = \"/Users/jacob/Library/Application Support/Anki2/Minerva/collection.anki2\"\n",
    "col = Collection(collection_path)\n",
    "print(col.db)\n",
    "col.close()"
   ]
  },
  {
   "cell_type": "code",
   "execution_count": null,
   "metadata": {},
   "outputs": [],
   "source": []
  },
  {
   "cell_type": "markdown",
   "metadata": {},
   "source": [
    "## Settles and Meeder's Spaced Repetition Model (Tabibian's Version)"
   ]
  },
  {
   "cell_type": "code",
   "execution_count": null,
   "metadata": {},
   "outputs": [],
   "source": []
  },
  {
   "cell_type": "markdown",
   "metadata": {},
   "source": [
    "### Functions to do Data analysis WITHOUT using Collection"
   ]
  },
  {
   "cell_type": "code",
   "execution_count": 31,
   "metadata": {},
   "outputs": [
    {
     "name": "stdout",
     "output_type": "stream",
     "text": [
      "There are 3752 total cards\n",
      "\n",
      "For card id 1557121425301, type is 'learning', queue status is 'learning', interval is '0 days', field is [('How does Alvarez &amp; Fournier (2012) define brand flings?\\x1fThey are hedonic, noncommited, time-bounded relationships driven by impulse and the need to experiment, and associated with post-termination feelings of shame and regret.&nbsp;\\x1f',)]\n",
      "\n",
      "In the next 24 hours ahead, cards of the following type are due:\n",
      "{'schedburied': 0, 'userburied': 0, 'suspended': 12, 'new': 2291, 'learning': 53, 'due': 1365, 'next rev at least a day': 31}\n"
     ]
    }
   ],
   "source": [
    "collection_path = \"/Users/jacob/Library/Application Support/Anki2/Minerva/collection.anki2\"\n",
    "\n",
    "def totalcards(collection_path):\n",
    "    \"\"\"\n",
    "    input: the path of the collection\n",
    "    output: the number of total cards.\n",
    "    \"\"\"\n",
    "    col = Collection(collection_path)\n",
    "    query = \"SELECT COUNT(id) from cards\"\n",
    "    query_result = col.db.scalar(query)\n",
    "    col.close()\n",
    "    return (f'There are {query_result} total cards')\n",
    "\n",
    "def duestatus(collection_path, hrs_ahead = 24):\n",
    "    \"\"\"\n",
    "    input: the path of the collection, the integer time\n",
    "    \"\"\"\n",
    "    col = Collection(collection_path)\n",
    "    next_hrs_ahead = intTime() +  hrs_ahead * 60 * 60 # today in int time plus x hrs * 60 mins * 60 seconds\n",
    "\n",
    "    cardsduedict = {\"schedburied\": col.db.scalar(f\"select count(id) from cards where queue = -3 and due < {next_hrs_ahead}\"),\n",
    "                    \"userburied\": col.db.scalar(f\"select count(id) from cards where queue = -2 and due < {next_hrs_ahead}\"),\n",
    "                    \"suspended\": col.db.scalar(f\"select count(id) from cards where queue = -1 and due < {next_hrs_ahead}\"),\n",
    "                    \"new\": col.db.scalar(f\"select count(id) from cards where queue = 0 and due < {next_hrs_ahead}\"),\n",
    "                    \"learning\": col.db.scalar(f\"select count(id) from cards where queue = 1 and due < {next_hrs_ahead}\"),\n",
    "                    \"due\": col.db.scalar(f\"select count(id) from cards where queue = 2 and due < {next_hrs_ahead}\"),\n",
    "                    \"next rev at least a day\": col.db.scalar(f\"select count(id) from cards where queue = 3 and due < {next_hrs_ahead}\")}\n",
    "    \n",
    "\n",
    "    print(f'In the next {hrs_ahead} hours ahead, cards of the following type are due:')\n",
    "\n",
    "    col.close()\n",
    "    return cardsduedict\n",
    "\n",
    "def getnextcardinfo(collection_path, cardid = 1557121425301):\n",
    "    \"\"\"\n",
    "    input: a collection path and a cardid.\n",
    "    output: general information about a card, including its nid, type, queue, due, ivl, reps and lapses\n",
    "    \"\"\"\n",
    "    \n",
    "    \n",
    "    col = Collection(collection_path)\n",
    "#     print(col.db.list(f\"select type, queue, due, ivl, reps, lapses from cards where queue = 1\"))\n",
    "    nid, types, queue, due, ivl, reps, lapses = col.db.first(f\"select nid, type, queue, due, ivl, reps, lapses from cards where id = {cardid}\")\n",
    "    fields = col.db.all(f\"select flds from notes where id = {nid}\")\n",
    "    \n",
    "    text = col.db.all(f\"select flds from notes where id = {nid}\")[0]\n",
    "    typedict = {0:'new', 1:'learning', 2:'due'}\n",
    "    queuedict = {-3: 'schedburied', -2:'userburied', -1:'suspended', 0:'new', 1:'learning', 2:'due', 3:'in learning +1'}\n",
    "    ivleval = lambda x: f\"{-x} seconds\" if x < 0 else f\"{x} days\"\n",
    "    \n",
    "    col.close()\n",
    "\n",
    "    return (f\"For card id {cardid}, type is '{typedict[types]}', queue status is '{queuedict[queue]}', interval is '{ivleval(ivl)}', field is {fields}\")\n",
    "\n",
    "\n",
    "print(totalcards(collection_path))\n",
    "print()\n",
    "print(getnextcardinfo(collection_path))\n",
    "print()\n",
    "print(duestatus(collection_path))\n"
   ]
  }
 ],
 "metadata": {
  "kernelspec": {
   "display_name": "Python 3",
   "language": "python",
   "name": "python3"
  },
  "language_info": {
   "codemirror_mode": {
    "name": "ipython",
    "version": 3
   },
   "file_extension": ".py",
   "mimetype": "text/x-python",
   "name": "python",
   "nbconvert_exporter": "python",
   "pygments_lexer": "ipython3",
   "version": "3.6.8"
  }
 },
 "nbformat": 4,
 "nbformat_minor": 2
}
